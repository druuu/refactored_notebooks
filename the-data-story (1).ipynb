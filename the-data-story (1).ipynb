{
 "cells": [
  {
   "cell_type": "markdown",
   "metadata": {
    "deletable": true,
    "editable": true
   },
   "source": [
    "# 1: The Data Story\n",
    "\n",
    "## 1.1: Clean and Messy Data\n",
    "\n",
    "Here are a few examples of what kinds of data we encounter:\n",
    "<br/>\n",
    "<img style='float: left;' src='https://s3.amazonaws.com/rfjh/media/CKEditorImages/2017/06/15/400px-DBSCAN-density-data.svg.png'/><img style='float: left;' src='https://s3.amazonaws.com/rfjh/media/CKEditorImages/2017/06/15/372px-EM-density-data.svg.png'/>\n",
    "<img style='float: left;' src='https://s3.amazonaws.com/rfjh/media/CKEditorImages/2017/06/15/3dplot_EhHDHNH.png'/><img src='https://s3.amazonaws.com/rfjh/media/CKEditorImages/2017/06/15/text_DjMDlWe.png'/>\n",
    "\n",
    "\n",
    "<br/><br/>\n",
    "## Exercise:\n",
    "\n",
    "What type of variations in the data do you see? What types of datasets do you observe?\n",
    "\n",
    "- click on the run button to continue with the workshop.\n"
   ]
  },
  {
   "cell_type": "code",
   "execution_count": 1,
   "metadata": {
    "collapsed": false,
    "deletable": true,
    "editable": true
   },
   "outputs": [
    {
     "name": "stdout",
     "output_type": "stream",
     "text": [
      "Good work you got it right!"
     ]
    }
   ],
   "source": [
    "# Clean & The Messy Data\n",
    "# This section will contain code examples that you can run to generate results as well as quizzes."
   ]
  },
  {
   "cell_type": "markdown",
   "metadata": {},
   "source": [
    "\n",
    "<br/><br/><br/>\n",
    "## 1.2: Clustering - The Right Way\n",
    "\n",
    "Here is a list of Points of Interest in Venice as seen on a map:\n",
    "<br/>\n",
    "\n",
    "<img style='float: left;' src='https://s3.amazonaws.com/rfjh/media/CKEditorImages/2017/06/16/image_1-1.png'/>\n",
    "\n",
    "\n",
    "<br/><br/><br/><br/><br/><br/><br/><br/><br/><br/><br/><br/><br/><br/><br/><br/><br/><br/><br/><br/><br/><br/>\n",
    "## Exercise:\n",
    "\n",
    "- To see the clustering done the right way click on next."
   ]
  },
  {
   "cell_type": "code",
   "execution_count": 3,
   "metadata": {
    "collapsed": false
   },
   "outputs": [
    {
     "data": {
      "text/html": [
       "<img src=\"https://s3.amazonaws.com/rfjh/media/notebook-images/places.png\"/>"
      ],
      "text/plain": [
       "<IPython.core.display.Image object>"
      ]
     },
     "execution_count": 3,
     "metadata": {},
     "output_type": "execute_result"
    },
    {
     "name": "stdout",
     "output_type": "stream",
     "text": [
      "Good work you got it right!"
     ]
    }
   ],
   "source": [
    "from IPython.display import Image\n",
    "Image(url='https://s3.amazonaws.com/rfjh/media/notebook-images/places.png') "
   ]
  },
  {
   "cell_type": "markdown",
   "metadata": {},
   "source": [
    "\n",
    "<br/><br/><br/>\n",
    "## 1.3: Clustering - The Wrong Way\n",
    "\n",
    "Here is an image of 4 inter-leaved regions that we shall attempt to cluster. \n",
    "\n",
    "\n",
    "## Exercise:\n",
    "\n",
    "Here, we have applied a clustering algorithm that doesnt quite work in getting us back the regions. \n",
    "\n",
    "- Continue to the next section."
   ]
  },
  {
   "cell_type": "code",
   "execution_count": 5,
   "metadata": {
    "collapsed": false
   },
   "outputs": [
    {
     "data": {
      "text/html": [
       "<img src=\"https://s3.amazonaws.com/rfjh/media/notebook-images/12-clusters.png\"/>"
      ],
      "text/plain": [
       "<IPython.core.display.Image object>"
      ]
     },
     "execution_count": 5,
     "metadata": {},
     "output_type": "execute_result"
    },
    {
     "name": "stdout",
     "output_type": "stream",
     "text": [
      "Good work you got it right!"
     ]
    }
   ],
   "source": [
    "from IPython.display import Image\n",
    "Image(url='https://s3.amazonaws.com/rfjh/media/notebook-images/12-clusters.png') "
   ]
  },
  {
   "cell_type": "code",
   "execution_count": 6,
   "metadata": {
    "collapsed": false,
    "deletable": true,
    "editable": true
   },
   "outputs": [
    {
     "name": "stdout",
     "output_type": "stream",
     "text": [
      "{\"var_dict\": [{\"type\": \"type\", \"name\": \"Image\", \"value\": \"<class 'IPython.core.display.Image'>\"}, {\"type\": \"module\", \"name\": \"json\", \"value\": \"<module 'json' from '/usr/lib/python3.5/json/__init__.py'>\"}, {\"type\": \"bool\", \"name\": \"ref_assert_var\", \"value\": \"False\"}, {\"type\": \"bool\", \"name\": \"v\", \"value\": \"False\"}]}\n"
     ]
    }
   ],
   "source": [
    "ref_assert_var = False\n",
    "\n",
    "\n",
    "\n",
    "\n",
    "import re\n",
    "variables_list = []\n",
    "for k in dir():\n",
    "    uvar = {}\n",
    "    if not k.startswith('_') and k not in [\"quit\", \"get_ipython\", \"exit\", \"In\", \"Out\",\"variables_list\", \"uvar\", \"re\", \"utype\", \"k\", \"json_dict\"]:\n",
    "        v = eval(k)\n",
    "        uvar[\"name\"]=k\n",
    "        uvar[\"value\"]= str(v)\n",
    "        utype = re.findall(r\"'([^']*)'\", str(type(v)))\n",
    "        uvar[\"type\"]= utype[0]\n",
    "        variables_list.append(uvar)\n",
    "import json\n",
    "json_dict = json.dumps({\"var_dict\" : variables_list})\n",
    "print(json_dict)\n"
   ]
  }
 ],
 "metadata": {
  "kernelspec": {
   "display_name": "Python 2",
   "language": "python",
   "name": "python2"
  },
  "language_info": {
   "codemirror_mode": {
    "name": "ipython",
    "version": 3
   },
   "file_extension": ".py",
   "mimetype": "text/x-python",
   "name": "python",
   "nbconvert_exporter": "python",
   "pygments_lexer": "ipython3",
   "version": "3.5.2"
  }
 },
 "nbformat": 4,
 "nbformat_minor": 2
}
